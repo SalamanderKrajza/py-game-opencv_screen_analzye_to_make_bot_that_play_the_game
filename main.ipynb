{
 "cells": [
  {
   "cell_type": "code",
   "execution_count": 2,
   "metadata": {},
   "outputs": [],
   "source": [
    "# tutorial: https://hackernoon.com/how-to-make-a-gaming-bot-that-beats-human-using-python-and-opencv"
   ]
  },
  {
   "cell_type": "code",
   "execution_count": 1,
   "metadata": {},
   "outputs": [],
   "source": [
    "import keyboard\n",
    "import mss\n",
    "import cv2\n",
    "import numpy\n",
    "from time import time, sleep\n",
    "import pyautogui\n"
   ]
  },
  {
   "cell_type": "code",
   "execution_count": 6,
   "metadata": {},
   "outputs": [
    {
     "name": "stdout",
     "output_type": "stream",
     "text": [
      "Press 's' to start playing.\n",
      "Once started press 'q' to quit.\n"
     ]
    },
    {
     "ename": "error",
     "evalue": "OpenCV(4.5.5) D:\\a\\opencv-python\\opencv-python\\opencv\\modules\\imgproc\\src\\templmatch.cpp:1175: error: (-215:Assertion failed) _img.size().height <= _templ.size().height && _img.size().width <= _templ.size().width in function 'cv::matchTemplate'\n",
     "output_type": "error",
     "traceback": [
      "\u001b[1;31m---------------------------------------------------------------------------\u001b[0m",
      "\u001b[1;31merror\u001b[0m                                     Traceback (most recent call last)",
      "\u001b[1;32md:\\maschine_learning\\sortowanie_paczek\\main.ipynb Cell 3'\u001b[0m in \u001b[0;36m<cell line: 32>\u001b[1;34m()\u001b[0m\n\u001b[0;32m     <a href='vscode-notebook-cell:/d%3A/maschine_learning/sortowanie_paczek/main.ipynb#ch0000002?line=40'>41</a>\u001b[0m \u001b[39m# Cut off alpha\u001b[39;00m\n\u001b[0;32m     <a href='vscode-notebook-cell:/d%3A/maschine_learning/sortowanie_paczek/main.ipynb#ch0000002?line=41'>42</a>\u001b[0m scr_remove \u001b[39m=\u001b[39m scr[:,:,:\u001b[39m3\u001b[39m]\n\u001b[1;32m---> <a href='vscode-notebook-cell:/d%3A/maschine_learning/sortowanie_paczek/main.ipynb#ch0000002?line=43'>44</a>\u001b[0m result \u001b[39m=\u001b[39m cv2\u001b[39m.\u001b[39;49mmatchTemplate(scr_remove, wood, cv2\u001b[39m.\u001b[39;49mTM_CCOEFF_NORMED)\n\u001b[0;32m     <a href='vscode-notebook-cell:/d%3A/maschine_learning/sortowanie_paczek/main.ipynb#ch0000002?line=45'>46</a>\u001b[0m _, max_val, _, max_loc \u001b[39m=\u001b[39m cv2\u001b[39m.\u001b[39mminMaxLoc(result)\n\u001b[0;32m     <a href='vscode-notebook-cell:/d%3A/maschine_learning/sortowanie_paczek/main.ipynb#ch0000002?line=46'>47</a>\u001b[0m \u001b[39mprint\u001b[39m(\u001b[39mf\u001b[39m\u001b[39m\"\u001b[39m\u001b[39mMax Val: \u001b[39m\u001b[39m{\u001b[39;00mmax_val\u001b[39m}\u001b[39;00m\u001b[39m Max Loc: \u001b[39m\u001b[39m{\u001b[39;00mmax_loc\u001b[39m}\u001b[39;00m\u001b[39m\"\u001b[39m)\n",
      "\u001b[1;31merror\u001b[0m: OpenCV(4.5.5) D:\\a\\opencv-python\\opencv-python\\opencv\\modules\\imgproc\\src\\templmatch.cpp:1175: error: (-215:Assertion failed) _img.size().height <= _templ.size().height && _img.size().width <= _templ.size().width in function 'cv::matchTemplate'\n"
     ]
    }
   ],
   "source": [
    "pyautogui.PAUSE = 0\n",
    "\n",
    "print(\"Press 's' to start playing.\")\n",
    "print(\"Once started press 'q' to quit.\")\n",
    "keyboard.wait('s')\n",
    "left = True\n",
    "x = 340\n",
    "y = 850\n",
    "sct = mss.mss()\n",
    "dimensions_left = {\n",
    "        'left': 290,\n",
    "        'top': 600,\n",
    "        'width': 150,\n",
    "        'height': 250\n",
    "    }\n",
    "\n",
    "dimensions_right = {\n",
    "        'left': 520,\n",
    "        'top': 600,\n",
    "        'width': 150,\n",
    "        'height': 250\n",
    "    }\n",
    "\n",
    "pack_left = cv2.imread('data/left_pack.png')\n",
    "\n",
    "pack_right = cv2.imread('data/right_pack.png')\n",
    "w = pack_left.shape[1]\n",
    "h = pack_left.shape[0]\n",
    "\n",
    "fps_time = time()\n",
    "\n",
    "while True:\n",
    "\n",
    "    if left:\n",
    "        scr = numpy.array(sct.grab(dimensions_left))\n",
    "        wood = pack_left\n",
    "    else:\n",
    "        scr = numpy.array(sct.grab(dimensions_right))\n",
    "        wood = pack_right\n",
    "\n",
    "    # Cut off alpha\n",
    "    scr_remove = scr[:,:,:3]\n",
    "\n",
    "    result = cv2.matchTemplate(scr_remove, wood, cv2.TM_CCOEFF_NORMED)\n",
    "    \n",
    "    _, max_val, _, max_loc = cv2.minMaxLoc(result)\n",
    "    print(f\"Max Val: {max_val} Max Loc: {max_loc}\")\n",
    "    src = scr.copy()\n",
    "    if max_val > .85:\n",
    "        left = not left\n",
    "        if left:\n",
    "            x=340\n",
    "        else:\n",
    "            x=600\n",
    "        cv2.rectangle(scr, max_loc, (max_loc[0] + w, max_loc[1] + h), (0,255,255), 2)\n",
    "\n",
    "    cv2.imshow('Screen Shot', scr)\n",
    "    cv2.waitKey(1)\n",
    "    pyautogui.click(x=x, y=y)\n",
    "    sleep(.10)\n",
    "    if keyboard.is_pressed('q'):\n",
    "        break\n",
    "\n",
    "    print('FPS: {}'.format(1 / (time() - fps_time)))\n",
    "    fps_time = time()"
   ]
  },
  {
   "cell_type": "code",
   "execution_count": null,
   "metadata": {},
   "outputs": [],
   "source": []
  }
 ],
 "metadata": {
  "interpreter": {
   "hash": "369f2c481f4da34e4445cda3fffd2e751bd1c4d706f27375911949ba6bb62e1c"
  },
  "kernelspec": {
   "display_name": "Python 3.10.2 64-bit",
   "language": "python",
   "name": "python3"
  },
  "language_info": {
   "codemirror_mode": {
    "name": "ipython",
    "version": 3
   },
   "file_extension": ".py",
   "mimetype": "text/x-python",
   "name": "python",
   "nbconvert_exporter": "python",
   "pygments_lexer": "ipython3",
   "version": "3.10.2"
  },
  "orig_nbformat": 4
 },
 "nbformat": 4,
 "nbformat_minor": 2
}
